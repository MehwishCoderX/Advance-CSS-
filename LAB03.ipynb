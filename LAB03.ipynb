{
  "nbformat": 4,
  "nbformat_minor": 0,
  "metadata": {
    "colab": {
      "provenance": [],
      "authorship_tag": "ABX9TyO/gwV+PT6JEzhURFgi9tuU",
      "include_colab_link": true
    },
    "kernelspec": {
      "name": "python3",
      "display_name": "Python 3"
    },
    "language_info": {
      "name": "python"
    }
  },
  "cells": [
    {
      "cell_type": "markdown",
      "metadata": {
        "id": "view-in-github",
        "colab_type": "text"
      },
      "source": [
        "<a href=\"https://colab.research.google.com/github/MehwishCoderX/Advance-CSS-/blob/main/LAB03.ipynb\" target=\"_parent\"><img src=\"https://colab.research.google.com/assets/colab-badge.svg\" alt=\"Open In Colab\"/></a>"
      ]
    },
    {
      "cell_type": "code",
      "execution_count": 2,
      "metadata": {
        "colab": {
          "base_uri": "https://localhost:8080/",
          "height": 0
        },
        "id": "sKnWrWOqsXAF",
        "outputId": "a3c9ac29-90d0-4e47-d750-9e867585faf5"
      },
      "outputs": [
        {
          "output_type": "execute_result",
          "data": {
            "text/plain": [
              "['eggs', 100]"
            ]
          },
          "metadata": {},
          "execution_count": 2
        }
      ],
      "source": [
        "a = ['spam', 'eggs', 100, 1234]\n",
        "a[1:-1]\n",
        "a"
      ]
    },
    {
      "cell_type": "code",
      "source": [
        "a[:2] + ['bacon', 2*2]"
      ],
      "metadata": {
        "colab": {
          "base_uri": "https://localhost:8080/",
          "height": 0
        },
        "id": "hZHcdjUiwM1v",
        "outputId": "724ada74-4772-427f-a303-4913e9404a3c"
      },
      "execution_count": 4,
      "outputs": [
        {
          "output_type": "execute_result",
          "data": {
            "text/plain": [
              "['spam', 'eggs', 'bacon', 4]"
            ]
          },
          "metadata": {},
          "execution_count": 4
        }
      ]
    },
    {
      "cell_type": "code",
      "source": [
        "3*a[:3] + ['Boo!']"
      ],
      "metadata": {
        "id": "P7d_k195w_XA",
        "outputId": "9d8518be-5681-48df-c4a2-b1485ed5ea92",
        "colab": {
          "base_uri": "https://localhost:8080/",
          "height": 0
        }
      },
      "execution_count": 5,
      "outputs": [
        {
          "output_type": "execute_result",
          "data": {
            "text/plain": [
              "['spam', 'eggs', 100, 'spam', 'eggs', 100, 'spam', 'eggs', 100, 'Boo!']"
            ]
          },
          "metadata": {},
          "execution_count": 5
        }
      ]
    },
    {
      "cell_type": "code",
      "source": [
        "a = ['spam', 'eggs', 100, 1234]\n",
        "\n",
        "a[2] = a[2] + 23\n",
        "a"
      ],
      "metadata": {
        "id": "J82nwOUWxMbS",
        "outputId": "daf6ef45-9209-426a-d0a8-affd36fc4303",
        "colab": {
          "base_uri": "https://localhost:8080/",
          "height": 0
        }
      },
      "execution_count": 8,
      "outputs": [
        {
          "output_type": "execute_result",
          "data": {
            "text/plain": [
              "['spam', 'eggs', 123, 1234]"
            ]
          },
          "metadata": {},
          "execution_count": 8
        }
      ]
    },
    {
      "cell_type": "code",
      "source": [
        "a[0:2] = [1, 12]\n",
        "a\n"
      ],
      "metadata": {
        "id": "D-obZIInxxzG",
        "outputId": "733845df-ae52-4c11-97f6-a28b5f49e884",
        "colab": {
          "base_uri": "https://localhost:8080/",
          "height": 0
        }
      },
      "execution_count": 9,
      "outputs": [
        {
          "output_type": "execute_result",
          "data": {
            "text/plain": [
              "[1, 12, 123, 1234]"
            ]
          },
          "metadata": {},
          "execution_count": 9
        }
      ]
    },
    {
      "cell_type": "markdown",
      "source": [
        "## TASK 5"
      ],
      "metadata": {
        "id": "Jc0WfZ8S0BIT"
      }
    },
    {
      "cell_type": "code",
      "source": [
        "\n",
        "square_Num= {}\n",
        "\n",
        "for num in range(1, 11):\n",
        "   square_Num[num] = num ** 2\n",
        "\n",
        "print(square_Num)"
      ],
      "metadata": {
        "id": "qTO-jvYp0BV1",
        "outputId": "d0f09940-9f55-48b3-fa70-0fdf15488cbc",
        "colab": {
          "base_uri": "https://localhost:8080/",
          "height": 0
        }
      },
      "execution_count": 20,
      "outputs": [
        {
          "output_type": "stream",
          "name": "stdout",
          "text": [
            "{1: 1, 2: 4, 3: 9, 4: 16, 5: 25, 6: 36, 7: 49, 8: 64, 9: 81, 10: 100}\n"
          ]
        }
      ]
    },
    {
      "cell_type": "markdown",
      "source": [
        "## TASK 3"
      ],
      "metadata": {
        "id": "qNYdK1SP0-Jn"
      }
    },
    {
      "cell_type": "code",
      "source": [
        "def reverse_string(input_string):\n",
        "    reversed_str = ''.join(reversed(input_string))\n",
        "    return reversed_str\n",
        "string = input(\" enter string\")\n",
        "result = reverse_string(string)\n",
        "print(result)\n"
      ],
      "metadata": {
        "id": "NxXDVYmg0IH3",
        "outputId": "fb0ffcc7-0084-4c72-8d5c-841401c994b0",
        "colab": {
          "base_uri": "https://localhost:8080/",
          "height": 0
        }
      },
      "execution_count": 21,
      "outputs": [
        {
          "output_type": "stream",
          "name": "stdout",
          "text": [
            " enter stringanosha\n",
            "ahsona\n"
          ]
        }
      ]
    },
    {
      "cell_type": "markdown",
      "source": [
        "# TASK 1"
      ],
      "metadata": {
        "id": "NRHDghiI00dU"
      }
    },
    {
      "cell_type": "code",
      "source": [
        "def count_vowels(string):\n",
        "    if not string:\n",
        "        return \" string is empty.\"\n",
        "\n",
        "    string = string.lower()\n",
        "    v = 0\n",
        "    c = 0\n",
        "    b= 0\n",
        "\n",
        "    for char in string:\n",
        "        if char.isalpha():\n",
        "            if char in \"aeiou\":\n",
        "                v += 1\n",
        "            else:\n",
        "                c += 1\n",
        "        elif char.isspace():\n",
        "            b += 1\n",
        "\n",
        "    result = {\n",
        "        \"vowels\": v,\n",
        "        \"consonants\": c,\n",
        "        \"blanks\": b\n",
        "    }\n",
        "    return result\n",
        "\n",
        "\n",
        "input_string = input(\"Enter a string: \")\n",
        "result = count_vowels(input_string)\n",
        "\n",
        "if isinstance(result, str):\n",
        "    print(result)\n",
        "else:\n",
        "    print(\"vowels:\", result[\"vowels\"])\n",
        "    print(\" consonants:\", result[\"consonants\"])\n",
        "    print(\" blank spaces:\", result[\"blanks\"])\n",
        "\n"
      ],
      "metadata": {
        "id": "N_iJA68a00JJ",
        "outputId": "632e873c-354d-41f6-86c4-d5d041238b60",
        "colab": {
          "base_uri": "https://localhost:8080/",
          "height": 0
        }
      },
      "execution_count": 15,
      "outputs": [
        {
          "output_type": "stream",
          "name": "stdout",
          "text": [
            "Enter a string: mEhwish\n",
            "Number of vowels: 2\n",
            "Number of consonants: 5\n",
            "Number of blank spaces: 0\n"
          ]
        }
      ]
    },
    {
      "cell_type": "markdown",
      "source": [
        "## TASK 2"
      ],
      "metadata": {
        "id": "HBB_55Oo8TP9"
      }
    },
    {
      "cell_type": "code",
      "source": [
        "def fibonacci_series(n):\n",
        "    series = [0, 1]\n",
        "    for i in range(2, n):\n",
        "        series.append(series[i - 1] + series[i - 2])\n",
        "    return series\n",
        "\n",
        "n = int(input(\"Enter the number: \"))\n",
        "fib_series = fibonacci_series(n)\n",
        "print(\"Fibonacci Series:\", fib_series)\n"
      ],
      "metadata": {
        "id": "EIPctqck8S1H",
        "outputId": "3bbf31e8-8a76-407a-cd2e-7201573ec426",
        "colab": {
          "base_uri": "https://localhost:8080/",
          "height": 0
        }
      },
      "execution_count": 31,
      "outputs": [
        {
          "output_type": "stream",
          "name": "stdout",
          "text": [
            "Enter the number: 4\n",
            "Fibonacci Series: [0, 1, 1, 2]\n"
          ]
        }
      ]
    },
    {
      "cell_type": "markdown",
      "source": [
        "## TASK 4"
      ],
      "metadata": {
        "id": "SZp7UvQDBEmT"
      }
    },
    {
      "cell_type": "code",
      "source": [
        "def is_vowel(char):\n",
        "    vowels = \"AEIOUaeiou\"\n",
        "    return char in vowels\n",
        "\n",
        "def to_pig_latin(word):\n",
        "    if is_vowel(word[0]):\n",
        "        return word + \"hay\"\n",
        "    else:\n",
        "        return word[1:] + word[0] + \"ay\"\n",
        "\n",
        "def text_to_pig_latin(text):\n",
        "    words = text.split()\n",
        "    pig_latin_words = [to_pig_latin(word) for word in words]\n",
        "    return \" \".join(pig_latin_words)\n",
        "\n",
        "user_input = input(\"Enter Anything: \")\n",
        "pig_latin_text = text_to_pig_latin(user_input)\n",
        "print(\"Pig Latin: \", pig_latin_text)\n"
      ],
      "metadata": {
        "id": "a-Vlp1uk-4m2",
        "outputId": "bf1c7425-da31-45e7-b4e1-58cbcd6673e5",
        "colab": {
          "base_uri": "https://localhost:8080/",
          "height": 0
        }
      },
      "execution_count": 32,
      "outputs": [
        {
          "output_type": "stream",
          "name": "stdout",
          "text": [
            "Enter Anything: hello\n",
            "Pig Latin:  ellohay\n"
          ]
        }
      ]
    },
    {
      "cell_type": "code",
      "source": [
        "a=['anosha' ,' mehwish']\n",
        "\n"
      ],
      "metadata": {
        "id": "geq8mD6qCcMR",
        "outputId": "f9214f3c-bcf5-4334-8953-eb077b7d5eb1",
        "colab": {
          "base_uri": "https://localhost:8080/",
          "height": 0
        }
      },
      "execution_count": 34,
      "outputs": [
        {
          "output_type": "execute_result",
          "data": {
            "text/plain": [
              "['anosha', ' mehwish']"
            ]
          },
          "metadata": {},
          "execution_count": 34
        }
      ]
    }
  ]
}