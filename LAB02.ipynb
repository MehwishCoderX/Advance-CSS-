{
  "nbformat": 4,
  "nbformat_minor": 0,
  "metadata": {
    "colab": {
      "provenance": [],
      "authorship_tag": "ABX9TyMJlr0dPUOifHcGATMk+ye0",
      "include_colab_link": true
    },
    "kernelspec": {
      "name": "python3",
      "display_name": "Python 3"
    },
    "language_info": {
      "name": "python"
    }
  },
  "cells": [
    {
      "cell_type": "markdown",
      "metadata": {
        "id": "view-in-github",
        "colab_type": "text"
      },
      "source": [
        "<a href=\"https://colab.research.google.com/github/MehwishCoderX/Advance-CSS-/blob/main/LAB02.ipynb\" target=\"_parent\"><img src=\"https://colab.research.google.com/assets/colab-badge.svg\" alt=\"Open In Colab\"/></a>"
      ]
    },
    {
      "cell_type": "markdown",
      "source": [
        "## TASK1"
      ],
      "metadata": {
        "id": "PD1FciOwqOQl"
      }
    },
    {
      "cell_type": "code",
      "execution_count": 5,
      "metadata": {
        "colab": {
          "base_uri": "https://localhost:8080/"
        },
        "id": "qQAiHuw7oDFu",
        "outputId": "e85f2ea0-16fd-44e3-99e8-685bc84067a0"
      },
      "outputs": [
        {
          "output_type": "stream",
          "name": "stdout",
          "text": [
            " Show Numbers % by 7 and xing of 5 between 1500 and 2700:\n"
          ]
        },
        {
          "output_type": "execute_result",
          "data": {
            "text/plain": [
              "[1505,\n",
              " 1540,\n",
              " 1575,\n",
              " 1610,\n",
              " 1645,\n",
              " 1680,\n",
              " 1715,\n",
              " 1750,\n",
              " 1785,\n",
              " 1820,\n",
              " 1855,\n",
              " 1890,\n",
              " 1925,\n",
              " 1960,\n",
              " 1995,\n",
              " 2030,\n",
              " 2065,\n",
              " 2100,\n",
              " 2135,\n",
              " 2170,\n",
              " 2205,\n",
              " 2240,\n",
              " 2275,\n",
              " 2310,\n",
              " 2345,\n",
              " 2380,\n",
              " 2415,\n",
              " 2450,\n",
              " 2485,\n",
              " 2520,\n",
              " 2555,\n",
              " 2590,\n",
              " 2625,\n",
              " 2660,\n",
              " 2695]"
            ]
          },
          "metadata": {},
          "execution_count": 5
        }
      ],
      "source": [
        "\n",
        "res = []\n",
        "for num in range(1500, 2700):\n",
        "\n",
        "    if num % 7 == 0 and num % 5 == 0:\n",
        "\n",
        "        res.append(num)\n",
        "\n",
        "print(\" Show Numbers % by 7 and xing of 5 between 1500 and 2700:\")\n",
        "res\n"
      ]
    },
    {
      "cell_type": "markdown",
      "source": [
        "## TASK2"
      ],
      "metadata": {
        "id": "WaVQdc0PqZbD"
      }
    },
    {
      "cell_type": "code",
      "source": [
        "\n",
        "word = input(\"Enter any word: \")\n",
        "R_word = word[::-1]\n",
        "print(\" Reverse  word:\", R_word)\n"
      ],
      "metadata": {
        "colab": {
          "base_uri": "https://localhost:8080/"
        },
        "id": "q7xyT8gvsuIw",
        "outputId": "3f2ecf79-4677-4aa0-db19-8edb8bfe911e"
      },
      "execution_count": 6,
      "outputs": [
        {
          "output_type": "stream",
          "name": "stdout",
          "text": [
            "Enter any word: MAHI\n",
            " Reverse  word: IHAM\n"
          ]
        }
      ]
    },
    {
      "cell_type": "markdown",
      "source": [
        "## TASK3"
      ],
      "metadata": {
        "id": "Oq7VPGaEtTQr"
      }
    },
    {
      "cell_type": "code",
      "source": [
        "even_digit_numbers = [str(num) for num in range(100, 401)\n",
        " if (int(digit) % 2 == 0 for digit in str(num))]\n",
        "\n",
        "result = ', '.join(even_digit_numbers)\n",
        "print(result)\n"
      ],
      "metadata": {
        "colab": {
          "base_uri": "https://localhost:8080/"
        },
        "id": "ZLazq94WtWvd",
        "outputId": "ea54884f-5b88-46aa-ab08-04f190cb44d1"
      },
      "execution_count": 14,
      "outputs": [
        {
          "output_type": "stream",
          "name": "stdout",
          "text": [
            "100, 101, 102, 103, 104, 105, 106, 107, 108, 109, 110, 111, 112, 113, 114, 115, 116, 117, 118, 119, 120, 121, 122, 123, 124, 125, 126, 127, 128, 129, 130, 131, 132, 133, 134, 135, 136, 137, 138, 139, 140, 141, 142, 143, 144, 145, 146, 147, 148, 149, 150, 151, 152, 153, 154, 155, 156, 157, 158, 159, 160, 161, 162, 163, 164, 165, 166, 167, 168, 169, 170, 171, 172, 173, 174, 175, 176, 177, 178, 179, 180, 181, 182, 183, 184, 185, 186, 187, 188, 189, 190, 191, 192, 193, 194, 195, 196, 197, 198, 199, 200, 201, 202, 203, 204, 205, 206, 207, 208, 209, 210, 211, 212, 213, 214, 215, 216, 217, 218, 219, 220, 221, 222, 223, 224, 225, 226, 227, 228, 229, 230, 231, 232, 233, 234, 235, 236, 237, 238, 239, 240, 241, 242, 243, 244, 245, 246, 247, 248, 249, 250, 251, 252, 253, 254, 255, 256, 257, 258, 259, 260, 261, 262, 263, 264, 265, 266, 267, 268, 269, 270, 271, 272, 273, 274, 275, 276, 277, 278, 279, 280, 281, 282, 283, 284, 285, 286, 287, 288, 289, 290, 291, 292, 293, 294, 295, 296, 297, 298, 299, 300, 301, 302, 303, 304, 305, 306, 307, 308, 309, 310, 311, 312, 313, 314, 315, 316, 317, 318, 319, 320, 321, 322, 323, 324, 325, 326, 327, 328, 329, 330, 331, 332, 333, 334, 335, 336, 337, 338, 339, 340, 341, 342, 343, 344, 345, 346, 347, 348, 349, 350, 351, 352, 353, 354, 355, 356, 357, 358, 359, 360, 361, 362, 363, 364, 365, 366, 367, 368, 369, 370, 371, 372, 373, 374, 375, 376, 377, 378, 379, 380, 381, 382, 383, 384, 385, 386, 387, 388, 389, 390, 391, 392, 393, 394, 395, 396, 397, 398, 399, 400\n"
          ]
        }
      ]
    },
    {
      "cell_type": "markdown",
      "source": [
        "## TASK 5"
      ],
      "metadata": {
        "id": "wn-BFXG7u8fJ"
      }
    },
    {
      "cell_type": "code",
      "source": [
        "\n",
        "total_sum = 0\n",
        "count = 0\n",
        "\n",
        "n = int(input(\"Enter the number of integers: \"))\n",
        "for _ in range(n):\n",
        "    num = int(input(\"Enter an integer: \"))\n",
        "    total_sum += num\n",
        "    count += 1\n",
        "if count == 0:\n",
        "    average = 0\n",
        "else:\n",
        "    average = total_sum / count\n",
        "print(\"Sum of the entered numbers:\", total_sum)\n",
        "print(\"Average of the entered numbers:\", average)\n"
      ],
      "metadata": {
        "colab": {
          "base_uri": "https://localhost:8080/"
        },
        "id": "YPIhvho0vDJF",
        "outputId": "85c4342a-da22-4d45-8201-1bada7ba99a6"
      },
      "execution_count": 2,
      "outputs": [
        {
          "output_type": "stream",
          "name": "stdout",
          "text": [
            "Enter the number of integers you want to input: 2\n",
            "Enter an integer: 1\n",
            "Enter an integer: 2\n",
            "Sum of the entered numbers: 3\n",
            "Average of the entered numbers: 1.5\n"
          ]
        }
      ]
    },
    {
      "cell_type": "markdown",
      "source": [
        "## TASK 6\n"
      ],
      "metadata": {
        "id": "1T9UNjfZ6k-N"
      }
    },
    {
      "cell_type": "code",
      "source": [
        "\n",
        "classes_held = int(input(\"Enter the number of classes held: \"))\n",
        "classes_attended = int(input(\"Enter the number of classes attended: \"))\n",
        "\n",
        "\n",
        "attendance_percentage = (classes_attended / classes_held) * 100\n",
        "\n",
        "print(\"Percentage of classes attended:\", attendance_percentage, \"%\")\n",
        "if attendance_percentage >= 75:\n",
        "    print(\"This student is allowed to sit in the exam.\")\n",
        "else:\n",
        "    print(\"This student is not allowed to sit in the exam.\")\n"
      ],
      "metadata": {
        "colab": {
          "base_uri": "https://localhost:8080/"
        },
        "id": "sjrc-h5V6sl5",
        "outputId": "b561b80f-453c-4f61-a7f7-6b89a438c728"
      },
      "execution_count": 1,
      "outputs": [
        {
          "output_type": "stream",
          "name": "stdout",
          "text": [
            "Enter the number of classes held: 40\n",
            "Enter the number of classes attended: 30\n",
            "Percentage of classes attended: 75.0 %\n",
            "The student is allowed to sit in the exam.\n"
          ]
        }
      ]
    },
    {
      "cell_type": "markdown",
      "source": [
        "## TASK 4"
      ],
      "metadata": {
        "id": "m-Xvn-PV7_vt"
      }
    },
    {
      "cell_type": "code",
      "source": [
        "import numpy as np\n",
        "\n",
        "def euclidean_norms(matrix):\n",
        "    norms = []\n",
        "    for row in matrix:\n",
        "        row_norm = np.linalg.norm(row)\n",
        "        norms.append(row_norm)\n",
        "    return norms\n",
        "matrix = np.array([[1, 2, 3],\n",
        "                   [4, 5, 6],\n",
        "                   [7, 8, 9]])\n",
        "\n",
        "result = euclidean_norms(matrix)\n",
        "print(result)\n"
      ],
      "metadata": {
        "colab": {
          "base_uri": "https://localhost:8080/"
        },
        "id": "lPLHNN1c8GTP",
        "outputId": "3877e818-5375-4b3d-fa97-0119361425cd"
      },
      "execution_count": 15,
      "outputs": [
        {
          "output_type": "stream",
          "name": "stdout",
          "text": [
            "[3.7416573867739413, 8.774964387392123, 13.92838827718412]\n"
          ]
        }
      ]
    },
    {
      "cell_type": "code",
      "source": [
        "num=input(\" enter a num\")\n",
        "type(num)"
      ],
      "metadata": {
        "colab": {
          "base_uri": "https://localhost:8080/"
        },
        "id": "O6iEXh-_qbn6",
        "outputId": "dcb116df-fef5-43dc-c52e-78fe9f4f7d55"
      },
      "execution_count": 3,
      "outputs": [
        {
          "name": "stdout",
          "output_type": "stream",
          "text": [
            " enter a num2\n"
          ]
        },
        {
          "output_type": "execute_result",
          "data": {
            "text/plain": [
              "str"
            ]
          },
          "metadata": {},
          "execution_count": 3
        }
      ]
    },
    {
      "cell_type": "code",
      "source": [
        "num=int(num)+2\n",
        "num"
      ],
      "metadata": {
        "colab": {
          "base_uri": "https://localhost:8080/"
        },
        "id": "RUK8g0eYru2Q",
        "outputId": "977b4f8f-5fe8-4273-e7ca-b4916878a677"
      },
      "execution_count": 5,
      "outputs": [
        {
          "output_type": "execute_result",
          "data": {
            "text/plain": [
              "4"
            ]
          },
          "metadata": {},
          "execution_count": 5
        }
      ]
    },
    {
      "cell_type": "code",
      "source": [
        "num=bool(num)+2\n",
        "num"
      ],
      "metadata": {
        "colab": {
          "base_uri": "https://localhost:8080/"
        },
        "id": "6rglj6WcsVeZ",
        "outputId": "64b307c3-7b72-4ba5-8052-bd771a319b33"
      },
      "execution_count": 6,
      "outputs": [
        {
          "output_type": "execute_result",
          "data": {
            "text/plain": [
              "3"
            ]
          },
          "metadata": {},
          "execution_count": 6
        }
      ]
    },
    {
      "cell_type": "code",
      "source": [],
      "metadata": {
        "id": "gisConW2siV5"
      },
      "execution_count": null,
      "outputs": []
    },
    {
      "cell_type": "markdown",
      "source": [],
      "metadata": {
        "id": "sQVV5o3-v4XI"
      }
    },
    {
      "cell_type": "code",
      "source": [
        "num1=input(\"Enter num 1\")\n",
        "num2=input(\" Enter num 2\")\n",
        "result=int(num1)/int(num2)\n",
        "result"
      ],
      "metadata": {
        "colab": {
          "base_uri": "https://localhost:8080/",
          "height": 262
        },
        "id": "-QQ9B2yAv4u0",
        "outputId": "66d941ee-25e7-4851-eb01-2d1d69fde6a2"
      },
      "execution_count": 9,
      "outputs": [
        {
          "name": "stdout",
          "output_type": "stream",
          "text": [
            "Enter num 12\n",
            " Enter num 20\n"
          ]
        },
        {
          "output_type": "error",
          "ename": "ZeroDivisionError",
          "evalue": "ignored",
          "traceback": [
            "\u001b[0;31m---------------------------------------------------------------------------\u001b[0m",
            "\u001b[0;31mZeroDivisionError\u001b[0m                         Traceback (most recent call last)",
            "\u001b[0;32m<ipython-input-9-addabf857c60>\u001b[0m in \u001b[0;36m<cell line: 3>\u001b[0;34m()\u001b[0m\n\u001b[1;32m      1\u001b[0m \u001b[0mnum1\u001b[0m\u001b[0;34m=\u001b[0m\u001b[0minput\u001b[0m\u001b[0;34m(\u001b[0m\u001b[0;34m\"Enter num 1\"\u001b[0m\u001b[0;34m)\u001b[0m\u001b[0;34m\u001b[0m\u001b[0;34m\u001b[0m\u001b[0m\n\u001b[1;32m      2\u001b[0m \u001b[0mnum2\u001b[0m\u001b[0;34m=\u001b[0m\u001b[0minput\u001b[0m\u001b[0;34m(\u001b[0m\u001b[0;34m\" Enter num 2\"\u001b[0m\u001b[0;34m)\u001b[0m\u001b[0;34m\u001b[0m\u001b[0;34m\u001b[0m\u001b[0m\n\u001b[0;32m----> 3\u001b[0;31m \u001b[0mresult\u001b[0m\u001b[0;34m=\u001b[0m\u001b[0mint\u001b[0m\u001b[0;34m(\u001b[0m\u001b[0mnum1\u001b[0m\u001b[0;34m)\u001b[0m\u001b[0;34m/\u001b[0m\u001b[0mint\u001b[0m\u001b[0;34m(\u001b[0m\u001b[0mnum2\u001b[0m\u001b[0;34m)\u001b[0m\u001b[0;34m\u001b[0m\u001b[0;34m\u001b[0m\u001b[0m\n\u001b[0m\u001b[1;32m      4\u001b[0m \u001b[0mresult\u001b[0m\u001b[0;34m\u001b[0m\u001b[0;34m\u001b[0m\u001b[0m\n",
            "\u001b[0;31mZeroDivisionError\u001b[0m: division by zero"
          ]
        }
      ]
    },
    {
      "cell_type": "code",
      "source": [
        "num1=input(\"Enter number1 :\")\n",
        "num2=input(\" Enter number2:\")\n",
        "try:\n",
        "\n",
        "    result=int(number1)/int(number2)\n",
        "except Exception as e:\n",
        "  result= None\n",
        "  print(\"Division:\",result)\n",
        ""
      ],
      "metadata": {
        "colab": {
          "base_uri": "https://localhost:8080/"
        },
        "id": "0w7mttRYwVw1",
        "outputId": "6466bc9d-fcf6-48f8-97e6-029352794d5f"
      },
      "execution_count": 12,
      "outputs": [
        {
          "output_type": "stream",
          "name": "stdout",
          "text": [
            "Enter number1 :3\n",
            " Enter number2:0\n",
            "Division: None\n"
          ]
        }
      ]
    },
    {
      "cell_type": "markdown",
      "source": [
        "*italicized text*"
      ],
      "metadata": {
        "id": "hiAGUVRqqI6F"
      }
    }
  ]
}